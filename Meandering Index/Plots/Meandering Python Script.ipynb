# %% [markdown]
# ## Starting Importing all the necessary packages for the analysis

# %%
import numpy as np
import pandas as pd
import os
# import matplotlib as mpl
import matplotlib.pyplot as plt
# import matplotlib.ticker as tck

# %% [markdown]
# ## Set the path to the folder containing the xls files

# %%
input_folder_path = "F:\One Drive\OneDrive - Indian Institute of Science Education and Research Bhopal\Excel data for Various Parameters\Meandering Index"

# %% [markdown]
# ## Output folder path

# %%
output_folder_path = "F:\One Drive\OneDrive - Indian Institute of Science Education and Research Bhopal\Excel data for Various Parameters\Meandering Index\Plots"

# %% [markdown]
# ### Create an empty data frame to hold the concatenated data

# %%
result = pd.DataFrame()

# %% [markdown]
# #### Loop through all the xls files in the folder

# %%
for filename in os.listdir(input_folder_path):
    if filename.endswith(".xls"):
        file_path = os.path.join(input_folder_path, filename)

        # Load the xls file into a pandas dataframe
        df = pd.read_excel(file_path, usecols=["Length"])

        # Add the Length column to the result dataframe
        result[filename] = df["Length"]/4000
print(result)

# %% [markdown]
# #### Add a new column containing a serial number *

# %%
# Add a new column containing a serial number
result.insert(loc=0, column="Serial Number", value=range(1, len(result)+1))
print(result)

# %% [markdown]
# #### Save the result to csv file

# %%
output_file_path = os.path.join(output_folder_path, "Meandering-Final.csv")
result.to_csv(output_file_path, index=False)

# %% [markdown]
# ### Read the csv file

# %%
df = pd.read_csv(output_file_path)
df.head()

# %% [markdown]
# #### Renaming the column name

# %%
df2 = df.rename(columns={
    'Serial Number': 'Reach', 'Meandering-1965_TableToExcel.xls': '1965',
    'TableToExcel_Mon-2016.xls': 'Mon-2016', 'TableToExcel_Mon-2017.xls': 'Mon-2017',
    'TableToExcel_Mon-2018.xls': 'Mon-2018', 'TableToExcel_Mon-2019.xls': 'Mon-2019',
    'TableToExcel_Mon-2020.xls': 'Mon-2020', 'TableToExcel_Post-2016.xls': 'Post-2016',
    'TableToExcel_Post-2017.xls': 'Post-2017', 'TableToExcel_Post-2018.xls': 'Post-2018',
    'TableToExcel_Post-2019.xls': 'Post-2019', 'TableToExcel_Post-2020.xls': 'Post-2020',
    'TableToExcel_Pre-2016.xls': 'Pre-2016', 'TableToExcel_Pre-2017.xls': 'Pre-2017',
    'TableToExcel_Pre-2018.xls': 'Pre-2018', 'TableToExcel_Pre-2019.xls': 'Pre-2019',
    'TableToExcel_Pre-2020.xls': 'Pre-2020'})
df2.head()

# Save the file in the same folder as the ouptut file
output_file_path = os.path.join(
    output_folder_path, "Meandering-Final-Updated.csv")
df2.to_csv(output_file_path, index=False)

# %%
df3 = pd.read_csv(output_file_path)
df3.head()

# %%
'''
This is the plot of the meandering index for the various reaches of the river Yamuna for the years 1965 vs Monsooon 2016-2020
'''
plt.plot(df2["Reach"], df2['1965'], marker='s', markerfacecolor='black',
         markersize=9, color='black', linewidth=4, label='1965')
plt.plot(df2["Reach"], df2['Mon-2016'], marker='o', markerfacecolor='red',
         markersize=9, color='red', linewidth=4, label='Mon-2016')
plt.plot(df2["Reach"], df2['Mon-2017'], marker='^', markerfacecolor='green',
         markersize=9, color='green', linewidth=4, label='Mon-2017')
plt.plot(df2["Reach"], df2['Mon-2018'], marker='*', markerfacecolor='blue',
         markersize=9, color='blue', linewidth=4, label='Mon-2018')
plt.plot(df2["Reach"], df2['Mon-2019'], marker='s', markerfacecolor='magenta',
         markersize=9, color='magenta', linewidth=4, label='Mon-2019')
plt.plot(df2["Reach"], df2['Mon-2020'], marker='v', markerfacecolor='orange',
         markersize=9, color='orange', linewidth=4, label='Mon-2020')
plt.title("Meandering Index")
plt.xlabel("Reach")
plt.ylabel("Meandering Index")
plt.legend()
plt.show()

# %%
'''This is the plot of the meandering index for the various reaches of the river Yamuna for the years 1965 vs Post-Monsoon 2016-2020'''
plt.plot(df2["Reach"], df2['1965'], marker='s', markerfacecolor='black',
         markersize=9, color='black', linewidth=4, label='1965')
plt.plot(df2["Reach"], df2['Post-2016'], marker='o', markerfacecolor='red',
         markersize=9, color='red', linewidth=4, label='Post-2016')
plt.plot(df2["Reach"], df2['Post-2017'], marker='^', markerfacecolor='green',
         markersize=9, color='green', linewidth=4, label='Post-2017')
plt.plot(df2["Reach"], df2['Post-2018'], marker='*', markerfacecolor='blue',
         markersize=9, color='blue', linewidth=4, label='Post-2018')
plt.plot(df2["Reach"], df2['Post-2019'], marker='s', markerfacecolor='magenta',
         markersize=9, color='magenta', linewidth=4, label='Post-2019')
plt.plot(df2["Reach"], df2['Post-2020'], marker='v', markerfacecolor='orange',
         markersize=9, color='orange', linewidth=4, label='Post-2020')
plt.title("Meandering Index")
plt.xlabel("Reach")
plt.ylabel("Meandering Index")
plt.legend()
plt.show()

# %%
'''This is the plot of the meandering index for the various reaches of the river Yamuna for the years 1965 vs Pre-Monsoon 2017-2020'''
plt.plot(df2["Reach"], df2['1965'], marker='s', markerfacecolor='black',
         markersize=9, color='black', linewidth=4, label='1965')
plt.plot(df2["Reach"], df2['Pre-2017'], marker='^', markerfacecolor='green',
         markersize=9, color='green', linewidth=4, label='Pre-2017')
plt.plot(df2["Reach"], df2['Pre-2018'], marker='*', markerfacecolor='blue',
         markersize=9, color='blue', linewidth=4, label='Pre-2018')
plt.plot(df2["Reach"], df2['Pre-2019'], marker='s', markerfacecolor='magenta',
         markersize=9, color='magenta', linewidth=4, label='Pre-2019')
plt.plot(df2["Reach"], df2['Pre-2020'], marker='v', markerfacecolor='orange',
         markersize=9, color='orange', linewidth=4, label='Pre-2020')
plt.title("Meandering Index")
plt.xlabel("Reach")
plt.ylabel("Meandering Index")
plt.legend()
plt.show()
