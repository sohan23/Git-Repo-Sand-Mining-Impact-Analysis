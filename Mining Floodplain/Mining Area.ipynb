{
 "cells": [
  {
   "cell_type": "code",
   "execution_count": null,
   "metadata": {},
   "outputs": [],
   "source": [
    "import numpy as np\n",
    "import pandas as pd\n",
    "import os\n",
    "# # import matplotlib as mpl\n",
    "# import matplotlib.pyplot as plt\n",
    "# # import matplotlib.ticker as tck\n",
    "# %matplotlib inline\n"
   ]
  },
  {
   "cell_type": "code",
   "execution_count": null,
   "metadata": {},
   "outputs": [],
   "source": [
    "\n",
    "\n",
    "input_folder_path = 'F:\\One Drive\\OneDrive - Indian Institute of Science Education and Research Bhopal\\GEE_Unsupervised_PlanetScope\\Floodplain Mining\\Mining Area-Shapefile\\Excel File'\n",
    "\n",
    "output_folder_path = 'F:\\One Drive\\OneDrive - Indian Institute of Science Education and Research Bhopal\\Excel data for Various Parameters\\Mining Floodplain'\n"
   ]
  },
  {
   "cell_type": "code",
   "execution_count": null,
   "metadata": {},
   "outputs": [],
   "source": [
    "result = pd.DataFrame()"
   ]
  },
  {
   "cell_type": "code",
   "execution_count": null,
   "metadata": {},
   "outputs": [],
   "source": [
    "for filename in os.listdir(input_folder_path):\n",
    "    if filename.endswith(\".xls\"):\n",
    "        file_path = os.path.join(input_folder_path, filename)\n",
    "\n",
    "        # Load the xls file into a pandas dataframe\n",
    "        df = pd.read_excel(file_path, usecols=[\"Area\"])\n",
    "\n",
    "        # Add the Length column to the result dataframe\n",
    "        result[filename] = df[\"Area\"].sum()/1000000\n",
    "print(result)\n"
   ]
  },
  {
   "cell_type": "code",
   "execution_count": null,
   "metadata": {},
   "outputs": [],
   "source": [
    "# Add a new column containing a serial number\n",
    "result.insert(loc=0, column=\"Serial Number\", value=range(1, len(result)+1))\n",
    "print(result)\n"
   ]
  },
  {
   "cell_type": "code",
   "execution_count": null,
   "metadata": {},
   "outputs": [],
   "source": [
    "output_file_path = os.path.join(output_folder_path, \"Mining-Final.xlsx\")\n",
    "result.to_excel(output_file_path, index=False)\n"
   ]
  },
  {
   "cell_type": "code",
   "execution_count": 44,
   "metadata": {},
   "outputs": [
    {
     "data": {
      "text/html": [
       "<div>\n",
       "<style scoped>\n",
       "    .dataframe tbody tr th:only-of-type {\n",
       "        vertical-align: middle;\n",
       "    }\n",
       "\n",
       "    .dataframe tbody tr th {\n",
       "        vertical-align: top;\n",
       "    }\n",
       "\n",
       "    .dataframe thead th {\n",
       "        text-align: right;\n",
       "    }\n",
       "</style>\n",
       "<table border=\"1\" class=\"dataframe\">\n",
       "  <thead>\n",
       "    <tr style=\"text-align: right;\">\n",
       "      <th></th>\n",
       "      <th>Serial Number</th>\n",
       "      <th>Shapefile-Mon-2016_TableToExcel.xls</th>\n",
       "      <th>Shapefile-Mon-2017_TableToExcel.xls</th>\n",
       "      <th>Shapefile-Mon-2018_TableToExcel.xls</th>\n",
       "      <th>Shapefile-Mon-2019_TableToExcel.xls</th>\n",
       "      <th>Shapefile-Mon-2020_TableToExcel.xls</th>\n",
       "      <th>Shapefile-Post-2016_TableToExcel.xls</th>\n",
       "      <th>Shapefile-Post-2017_TableToExcel.xls</th>\n",
       "      <th>Shapefile-Post-2018_TableToExcel.xls</th>\n",
       "      <th>Shapefile-Post-2019_TableToExcel.xls</th>\n",
       "      <th>Shapefile-Post-2020_TableToExcel.xls</th>\n",
       "      <th>Shapefile-Pre-2017_TableToExcel.xls</th>\n",
       "      <th>Shapefile-Pre-2018_TableToExcel.xls</th>\n",
       "      <th>Shapefile-Pre-2019_TableToExcel.xls</th>\n",
       "      <th>Shapefile-Pre-2020_TableToExcel.xls</th>\n",
       "    </tr>\n",
       "  </thead>\n",
       "  <tbody>\n",
       "    <tr>\n",
       "      <th>0</th>\n",
       "      <td>1</td>\n",
       "      <td>0.204351</td>\n",
       "      <td>1.064516</td>\n",
       "      <td>1.165038</td>\n",
       "      <td>0.796752</td>\n",
       "      <td>1.251205</td>\n",
       "      <td>0.805248</td>\n",
       "      <td>1.005561</td>\n",
       "      <td>1.513194</td>\n",
       "      <td>1.221716</td>\n",
       "      <td>1.420597</td>\n",
       "      <td>1.161783</td>\n",
       "      <td>1.969847</td>\n",
       "      <td>2.333321</td>\n",
       "      <td>1.180987</td>\n",
       "    </tr>\n",
       "  </tbody>\n",
       "</table>\n",
       "</div>"
      ],
      "text/plain": [
       "   Serial Number  Shapefile-Mon-2016_TableToExcel.xls  \\\n",
       "0              1                             0.204351   \n",
       "\n",
       "   Shapefile-Mon-2017_TableToExcel.xls  Shapefile-Mon-2018_TableToExcel.xls  \\\n",
       "0                             1.064516                             1.165038   \n",
       "\n",
       "   Shapefile-Mon-2019_TableToExcel.xls  Shapefile-Mon-2020_TableToExcel.xls  \\\n",
       "0                             0.796752                             1.251205   \n",
       "\n",
       "   Shapefile-Post-2016_TableToExcel.xls  Shapefile-Post-2017_TableToExcel.xls  \\\n",
       "0                              0.805248                              1.005561   \n",
       "\n",
       "   Shapefile-Post-2018_TableToExcel.xls  Shapefile-Post-2019_TableToExcel.xls  \\\n",
       "0                              1.513194                              1.221716   \n",
       "\n",
       "   Shapefile-Post-2020_TableToExcel.xls  Shapefile-Pre-2017_TableToExcel.xls  \\\n",
       "0                              1.420597                             1.161783   \n",
       "\n",
       "   Shapefile-Pre-2018_TableToExcel.xls  Shapefile-Pre-2019_TableToExcel.xls  \\\n",
       "0                             1.969847                             2.333321   \n",
       "\n",
       "   Shapefile-Pre-2020_TableToExcel.xls  \n",
       "0                             1.180987  "
      ]
     },
     "execution_count": 44,
     "metadata": {},
     "output_type": "execute_result"
    }
   ],
   "source": [
    "df = pd.read_excel(output_file_path)\n",
    "df.head()\n"
   ]
  },
  {
   "cell_type": "code",
   "execution_count": null,
   "metadata": {},
   "outputs": [],
   "source": [
    "df2 = df.rename(columns={\n",
    "    'Serial Number': 'Serial Number',\n",
    "    'Shapefile-Mon-2016_TableToExcel.xls': 'Mon-2016',\n",
    "    'Shapefile-Mon-2017_TableToExcel.xls': 'Mon-2017',\n",
    "    'Shapefile-Mon-2018_TableToExcel.xls': 'Mon-2018',\n",
    "    'Shapefile-Mon-2019_TableToExcel.xls': 'Mon-2019',\n",
    "    'Shapefile-Mon-2020_TableToExcel.xls': 'Mon-2020',\n",
    "    'Shapefile-Post-2016_TableToExcel.xls': 'Post-2016',\n",
    "    'Shapefile-Post-2017_TableToExcel.xls': 'Post-2017',\n",
    "    'Shapefile-Post-2018_TableToExcel.xls': 'Post-2018',\n",
    "    'Shapefile-Post-2019_TableToExcel.xls': 'Post-2019',\n",
    "    'Shapefile-Post-2020_TableToExcel.xls': 'Post-2020',\n",
    "    'Shapefile-Pre-2017_TableToExcel.xls': 'Pre-2017',\n",
    "    'Shapefile-Pre-2018_TableToExcel.xls': 'Pre-2018',\n",
    "    'Shapefile-Pre-2019_TableToExcel.xls': 'Pre-2019',\n",
    "    'Shapefile-Pre-2020_TableToExcel.xls': 'Pre-2020',\n",
    "})\n",
    "df2"
   ]
  },
  {
   "cell_type": "code",
   "execution_count": null,
   "metadata": {},
   "outputs": [],
   "source": [
    "output_file_path = os.path.join(output_folder_path, \"Mining-Final.xlsx\")\n",
    "result.to_excel(output_file_path, index=False)\n"
   ]
  }
 ],
 "metadata": {
  "kernelspec": {
   "display_name": "Python 3",
   "language": "python",
   "name": "python3"
  },
  "language_info": {
   "codemirror_mode": {
    "name": "ipython",
    "version": 3
   },
   "file_extension": ".py",
   "mimetype": "text/x-python",
   "name": "python",
   "nbconvert_exporter": "python",
   "pygments_lexer": "ipython3",
   "version": "3.11.2"
  },
  "orig_nbformat": 4
 },
 "nbformat": 4,
 "nbformat_minor": 2
}
