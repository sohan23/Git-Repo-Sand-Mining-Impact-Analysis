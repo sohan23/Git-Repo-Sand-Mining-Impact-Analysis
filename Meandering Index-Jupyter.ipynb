{
 "cells": [
  {
   "attachments": {},
   "cell_type": "markdown",
   "metadata": {},
   "source": [
    "## Starting Importing all the necessary packages for the analysis  "
   ]
  },
  {
   "cell_type": "code",
   "execution_count": 10,
   "metadata": {},
   "outputs": [],
   "source": [
    "import numpy as np\n",
    "import pandas as pd\n",
    "import os\n",
    "import openpyxl\n",
    "# import matplotlib as mpl\n",
    "import matplotlib.pyplot as plt\n",
    "# import matplotlib.ticker as tck\n",
    "%matplotlib inline"
   ]
  },
  {
   "attachments": {},
   "cell_type": "markdown",
   "metadata": {},
   "source": [
    "## Set the path to the folder containing the xls files"
   ]
  },
  {
   "cell_type": "code",
   "execution_count": 11,
   "metadata": {},
   "outputs": [],
   "source": [
    "input_folder_path = \"F:\\One Drive\\OneDrive - Indian Institute of Science Education and Research Bhopal\\Excel data for Various Parameters\\Meandering Index\""
   ]
  },
  {
   "attachments": {},
   "cell_type": "markdown",
   "metadata": {},
   "source": [
    "## Output folder path "
   ]
  },
  {
   "cell_type": "code",
   "execution_count": 12,
   "metadata": {},
   "outputs": [],
   "source": [
    "output_folder_path = \"F:\\One Drive\\OneDrive - Indian Institute of Science Education and Research Bhopal\\Excel data for Various Parameters\\Meandering Index\\Plots\""
   ]
  },
  {
   "attachments": {},
   "cell_type": "markdown",
   "metadata": {},
   "source": [
    "### Create an empty data frame to hold the concatenated data"
   ]
  },
  {
   "cell_type": "code",
   "execution_count": 13,
   "metadata": {},
   "outputs": [],
   "source": [
    "result = pd.DataFrame()"
   ]
  },
  {
   "attachments": {},
   "cell_type": "markdown",
   "metadata": {},
   "source": [
    "#### Loop through all the xls files in the folder"
   ]
  },
  {
   "cell_type": "code",
   "execution_count": 14,
   "metadata": {},
   "outputs": [
    {
     "name": "stdout",
     "output_type": "stream",
     "text": [
      "   Meandering-1965_TableToExcel.xls  TableToExcel_Mon-2016.xls  \\\n",
      "0                          1.211051                   1.366766   \n",
      "1                          0.000000                   1.181659   \n",
      "2                          0.000000                   1.302945   \n",
      "3                          0.813785                   1.173761   \n",
      "4                          1.190774                   1.423745   \n",
      "5                          1.689567                   1.500634   \n",
      "6                          1.220487                   1.793857   \n",
      "7                          1.259128                   1.229359   \n",
      "8                          0.324727                   0.996554   \n",
      "\n",
      "   TableToExcel_Mon-2017.xls  TableToExcel_Mon-2018.xls  \\\n",
      "0                   1.290761                   1.276657   \n",
      "1                   1.250250                   1.168382   \n",
      "2                   1.145420                   1.232438   \n",
      "3                   1.106044                   1.133517   \n",
      "4                   1.170305                   1.147476   \n",
      "5                   1.583765                   1.536755   \n",
      "6                   1.853307                   1.705301   \n",
      "7                   1.200877                   1.197142   \n",
      "8                   0.978619                   0.848348   \n",
      "\n",
      "   TableToExcel_Mon-2019.xls  TableToExcel_Mon-2020.xls  \\\n",
      "0                   1.289467                   1.269982   \n",
      "1                   1.259454                   1.204144   \n",
      "2                   1.134474                   1.198124   \n",
      "3                   1.140422                   1.157064   \n",
      "4                   1.128904                   1.282625   \n",
      "5                   1.603840                   1.229351   \n",
      "6                   1.798702                   1.957869   \n",
      "7                   1.266250                   1.416461   \n",
      "8                   0.889450                   0.932746   \n",
      "\n",
      "   TableToExcel_Post-2016.xls  TableToExcel_Post-2017.xls  \\\n",
      "0                    1.308169                    1.251769   \n",
      "1                    1.089575                    1.118899   \n",
      "2                    1.129832                    1.060676   \n",
      "3                    1.214168                    1.039301   \n",
      "4                    1.212928                    1.280335   \n",
      "5                    1.530831                    1.418296   \n",
      "6                    1.752337                    1.655472   \n",
      "7                    1.251240                    1.209747   \n",
      "8                    0.928869                    0.834118   \n",
      "\n",
      "   TableToExcel_Post-2018.xls  TableToExcel_Post-2019.xls  \\\n",
      "0                    1.361674                    1.288494   \n",
      "1                    1.271264                    1.167559   \n",
      "2                    1.215627                    1.159241   \n",
      "3                    1.090357                    1.063215   \n",
      "4                    1.438098                    1.829584   \n",
      "5                    1.339053                    1.328075   \n",
      "6                    1.921725                    0.863881   \n",
      "7                    1.236933                    1.132046   \n",
      "8                    0.944081                    1.201525   \n",
      "\n",
      "   TableToExcel_Post-2020.xls  TableToExcel_Pre-2017.xls  \\\n",
      "0                    0.714215                   1.328686   \n",
      "1                    1.161430                   1.229276   \n",
      "2                    1.106244                   1.354167   \n",
      "3                    1.080648                   1.478536   \n",
      "4                    1.053275                   1.430762   \n",
      "5                    1.267186                   1.572573   \n",
      "6                    1.707955                   1.709857   \n",
      "7                    1.248982                   1.255634   \n",
      "8                    0.814563                   0.969255   \n",
      "\n",
      "   TableToExcel_Pre-2018.xls  TableToExcel_Pre-2019.xls  \\\n",
      "0                   1.380284                   1.285456   \n",
      "1                   1.209527                   1.208813   \n",
      "2                   1.192247                   1.128877   \n",
      "3                   1.152040                   1.126167   \n",
      "4                   1.293268                   1.210549   \n",
      "5                   1.677873                   1.541131   \n",
      "6                   1.840921                   1.625754   \n",
      "7                   1.282127                   1.302722   \n",
      "8                   1.063429                   0.926707   \n",
      "\n",
      "   TableToExcel_Pre-2020.xls  \n",
      "0                   0.723359  \n",
      "1                   1.204958  \n",
      "2                   1.226638  \n",
      "3                   1.185258  \n",
      "4                   1.307564  \n",
      "5                   1.527003  \n",
      "6                   2.022158  \n",
      "7                   1.327120  \n",
      "8                   0.957901  \n"
     ]
    }
   ],
   "source": [
    "for filename in os.listdir(input_folder_path):\n",
    "    if filename.endswith(\".xls\"):\n",
    "        file_path = os.path.join(input_folder_path, filename)\n",
    "\n",
    "        #Load the xls file into a pandas dataframe\n",
    "        df = pd.read_excel(file_path, usecols=[\"Length\"])\n",
    "\n",
    "        #Add the Length column to the result dataframe\n",
    "        result[filename] = df[\"Length\"]/4000\n",
    "print(result)"
   ]
  },
  {
   "attachments": {},
   "cell_type": "markdown",
   "metadata": {},
   "source": [
    "#### Add a new column containing a serial number *"
   ]
  },
  {
   "cell_type": "code",
   "execution_count": 15,
   "metadata": {},
   "outputs": [
    {
     "name": "stdout",
     "output_type": "stream",
     "text": [
      "   Serial Number  Meandering-1965_TableToExcel.xls  TableToExcel_Mon-2016.xls  \\\n",
      "0              1                          1.211051                   1.366766   \n",
      "1              2                          0.000000                   1.181659   \n",
      "2              3                          0.000000                   1.302945   \n",
      "3              4                          0.813785                   1.173761   \n",
      "4              5                          1.190774                   1.423745   \n",
      "5              6                          1.689567                   1.500634   \n",
      "6              7                          1.220487                   1.793857   \n",
      "7              8                          1.259128                   1.229359   \n",
      "8              9                          0.324727                   0.996554   \n",
      "\n",
      "   TableToExcel_Mon-2017.xls  TableToExcel_Mon-2018.xls  \\\n",
      "0                   1.290761                   1.276657   \n",
      "1                   1.250250                   1.168382   \n",
      "2                   1.145420                   1.232438   \n",
      "3                   1.106044                   1.133517   \n",
      "4                   1.170305                   1.147476   \n",
      "5                   1.583765                   1.536755   \n",
      "6                   1.853307                   1.705301   \n",
      "7                   1.200877                   1.197142   \n",
      "8                   0.978619                   0.848348   \n",
      "\n",
      "   TableToExcel_Mon-2019.xls  TableToExcel_Mon-2020.xls  \\\n",
      "0                   1.289467                   1.269982   \n",
      "1                   1.259454                   1.204144   \n",
      "2                   1.134474                   1.198124   \n",
      "3                   1.140422                   1.157064   \n",
      "4                   1.128904                   1.282625   \n",
      "5                   1.603840                   1.229351   \n",
      "6                   1.798702                   1.957869   \n",
      "7                   1.266250                   1.416461   \n",
      "8                   0.889450                   0.932746   \n",
      "\n",
      "   TableToExcel_Post-2016.xls  TableToExcel_Post-2017.xls  \\\n",
      "0                    1.308169                    1.251769   \n",
      "1                    1.089575                    1.118899   \n",
      "2                    1.129832                    1.060676   \n",
      "3                    1.214168                    1.039301   \n",
      "4                    1.212928                    1.280335   \n",
      "5                    1.530831                    1.418296   \n",
      "6                    1.752337                    1.655472   \n",
      "7                    1.251240                    1.209747   \n",
      "8                    0.928869                    0.834118   \n",
      "\n",
      "   TableToExcel_Post-2018.xls  TableToExcel_Post-2019.xls  \\\n",
      "0                    1.361674                    1.288494   \n",
      "1                    1.271264                    1.167559   \n",
      "2                    1.215627                    1.159241   \n",
      "3                    1.090357                    1.063215   \n",
      "4                    1.438098                    1.829584   \n",
      "5                    1.339053                    1.328075   \n",
      "6                    1.921725                    0.863881   \n",
      "7                    1.236933                    1.132046   \n",
      "8                    0.944081                    1.201525   \n",
      "\n",
      "   TableToExcel_Post-2020.xls  TableToExcel_Pre-2017.xls  \\\n",
      "0                    0.714215                   1.328686   \n",
      "1                    1.161430                   1.229276   \n",
      "2                    1.106244                   1.354167   \n",
      "3                    1.080648                   1.478536   \n",
      "4                    1.053275                   1.430762   \n",
      "5                    1.267186                   1.572573   \n",
      "6                    1.707955                   1.709857   \n",
      "7                    1.248982                   1.255634   \n",
      "8                    0.814563                   0.969255   \n",
      "\n",
      "   TableToExcel_Pre-2018.xls  TableToExcel_Pre-2019.xls  \\\n",
      "0                   1.380284                   1.285456   \n",
      "1                   1.209527                   1.208813   \n",
      "2                   1.192247                   1.128877   \n",
      "3                   1.152040                   1.126167   \n",
      "4                   1.293268                   1.210549   \n",
      "5                   1.677873                   1.541131   \n",
      "6                   1.840921                   1.625754   \n",
      "7                   1.282127                   1.302722   \n",
      "8                   1.063429                   0.926707   \n",
      "\n",
      "   TableToExcel_Pre-2020.xls  \n",
      "0                   0.723359  \n",
      "1                   1.204958  \n",
      "2                   1.226638  \n",
      "3                   1.185258  \n",
      "4                   1.307564  \n",
      "5                   1.527003  \n",
      "6                   2.022158  \n",
      "7                   1.327120  \n",
      "8                   0.957901  \n"
     ]
    }
   ],
   "source": [
    "# Add a new column containing a serial number\n",
    "result.insert(loc=0, column=\"Serial Number\", value=range(1, len(result)+1))\n",
    "print(result)"
   ]
  },
  {
   "attachments": {},
   "cell_type": "markdown",
   "metadata": {},
   "source": [
    "#### Save the result to csv file "
   ]
  },
  {
   "cell_type": "code",
   "execution_count": 16,
   "metadata": {},
   "outputs": [],
   "source": [
    "output_file_path = os.path.join(output_folder_path, \"Meandering-Final.csv\")\n",
    "result.to_csv(output_file_path, index=False)"
   ]
  },
  {
   "attachments": {},
   "cell_type": "markdown",
   "metadata": {},
   "source": [
    "### Read the csv file"
   ]
  },
  {
   "cell_type": "code",
   "execution_count": 17,
   "metadata": {},
   "outputs": [
    {
     "ename": "PermissionError",
     "evalue": "[Errno 13] Permission denied: 'F:\\\\One Drive\\\\OneDrive - Indian Institute of Science Education and Research Bhopal\\\\Excel data for Various Parameters\\\\Meandering Index\\\\Plots'",
     "output_type": "error",
     "traceback": [
      "\u001b[1;31m---------------------------------------------------------------------------\u001b[0m",
      "\u001b[1;31mPermissionError\u001b[0m                           Traceback (most recent call last)",
      "Cell \u001b[1;32mIn[17], line 1\u001b[0m\n\u001b[1;32m----> 1\u001b[0m df2 \u001b[39m=\u001b[39m pd\u001b[39m.\u001b[39;49mread_excel(output_folder_path,\u001b[39m'\u001b[39;49m\u001b[39mMeandering-Final.xlsx\u001b[39;49m\u001b[39m'\u001b[39;49m)\n\u001b[0;32m      2\u001b[0m df2\n",
      "File \u001b[1;32mc:\\Users\\SOHAN\\AppData\\Local\\Programs\\Python\\Python311\\Lib\\site-packages\\pandas\\util\\_decorators.py:211\u001b[0m, in \u001b[0;36mdeprecate_kwarg.<locals>._deprecate_kwarg.<locals>.wrapper\u001b[1;34m(*args, **kwargs)\u001b[0m\n\u001b[0;32m    209\u001b[0m     \u001b[39melse\u001b[39;00m:\n\u001b[0;32m    210\u001b[0m         kwargs[new_arg_name] \u001b[39m=\u001b[39m new_arg_value\n\u001b[1;32m--> 211\u001b[0m \u001b[39mreturn\u001b[39;00m func(\u001b[39m*\u001b[39;49margs, \u001b[39m*\u001b[39;49m\u001b[39m*\u001b[39;49mkwargs)\n",
      "File \u001b[1;32mc:\\Users\\SOHAN\\AppData\\Local\\Programs\\Python\\Python311\\Lib\\site-packages\\pandas\\util\\_decorators.py:331\u001b[0m, in \u001b[0;36mdeprecate_nonkeyword_arguments.<locals>.decorate.<locals>.wrapper\u001b[1;34m(*args, **kwargs)\u001b[0m\n\u001b[0;32m    325\u001b[0m \u001b[39mif\u001b[39;00m \u001b[39mlen\u001b[39m(args) \u001b[39m>\u001b[39m num_allow_args:\n\u001b[0;32m    326\u001b[0m     warnings\u001b[39m.\u001b[39mwarn(\n\u001b[0;32m    327\u001b[0m         msg\u001b[39m.\u001b[39mformat(arguments\u001b[39m=\u001b[39m_format_argument_list(allow_args)),\n\u001b[0;32m    328\u001b[0m         \u001b[39mFutureWarning\u001b[39;00m,\n\u001b[0;32m    329\u001b[0m         stacklevel\u001b[39m=\u001b[39mfind_stack_level(),\n\u001b[0;32m    330\u001b[0m     )\n\u001b[1;32m--> 331\u001b[0m \u001b[39mreturn\u001b[39;00m func(\u001b[39m*\u001b[39;49margs, \u001b[39m*\u001b[39;49m\u001b[39m*\u001b[39;49mkwargs)\n",
      "File \u001b[1;32mc:\\Users\\SOHAN\\AppData\\Local\\Programs\\Python\\Python311\\Lib\\site-packages\\pandas\\io\\excel\\_base.py:482\u001b[0m, in \u001b[0;36mread_excel\u001b[1;34m(io, sheet_name, header, names, index_col, usecols, squeeze, dtype, engine, converters, true_values, false_values, skiprows, nrows, na_values, keep_default_na, na_filter, verbose, parse_dates, date_parser, thousands, decimal, comment, skipfooter, convert_float, mangle_dupe_cols, storage_options)\u001b[0m\n\u001b[0;32m    480\u001b[0m \u001b[39mif\u001b[39;00m \u001b[39mnot\u001b[39;00m \u001b[39misinstance\u001b[39m(io, ExcelFile):\n\u001b[0;32m    481\u001b[0m     should_close \u001b[39m=\u001b[39m \u001b[39mTrue\u001b[39;00m\n\u001b[1;32m--> 482\u001b[0m     io \u001b[39m=\u001b[39m ExcelFile(io, storage_options\u001b[39m=\u001b[39;49mstorage_options, engine\u001b[39m=\u001b[39;49mengine)\n\u001b[0;32m    483\u001b[0m \u001b[39melif\u001b[39;00m engine \u001b[39mand\u001b[39;00m engine \u001b[39m!=\u001b[39m io\u001b[39m.\u001b[39mengine:\n\u001b[0;32m    484\u001b[0m     \u001b[39mraise\u001b[39;00m \u001b[39mValueError\u001b[39;00m(\n\u001b[0;32m    485\u001b[0m         \u001b[39m\"\u001b[39m\u001b[39mEngine should not be specified when passing \u001b[39m\u001b[39m\"\u001b[39m\n\u001b[0;32m    486\u001b[0m         \u001b[39m\"\u001b[39m\u001b[39man ExcelFile - ExcelFile already has the engine set\u001b[39m\u001b[39m\"\u001b[39m\n\u001b[0;32m    487\u001b[0m     )\n",
      "File \u001b[1;32mc:\\Users\\SOHAN\\AppData\\Local\\Programs\\Python\\Python311\\Lib\\site-packages\\pandas\\io\\excel\\_base.py:1652\u001b[0m, in \u001b[0;36mExcelFile.__init__\u001b[1;34m(self, path_or_buffer, engine, storage_options)\u001b[0m\n\u001b[0;32m   1650\u001b[0m     ext \u001b[39m=\u001b[39m \u001b[39m\"\u001b[39m\u001b[39mxls\u001b[39m\u001b[39m\"\u001b[39m\n\u001b[0;32m   1651\u001b[0m \u001b[39melse\u001b[39;00m:\n\u001b[1;32m-> 1652\u001b[0m     ext \u001b[39m=\u001b[39m inspect_excel_format(\n\u001b[0;32m   1653\u001b[0m         content_or_path\u001b[39m=\u001b[39;49mpath_or_buffer, storage_options\u001b[39m=\u001b[39;49mstorage_options\n\u001b[0;32m   1654\u001b[0m     )\n\u001b[0;32m   1655\u001b[0m     \u001b[39mif\u001b[39;00m ext \u001b[39mis\u001b[39;00m \u001b[39mNone\u001b[39;00m:\n\u001b[0;32m   1656\u001b[0m         \u001b[39mraise\u001b[39;00m \u001b[39mValueError\u001b[39;00m(\n\u001b[0;32m   1657\u001b[0m             \u001b[39m\"\u001b[39m\u001b[39mExcel file format cannot be determined, you must specify \u001b[39m\u001b[39m\"\u001b[39m\n\u001b[0;32m   1658\u001b[0m             \u001b[39m\"\u001b[39m\u001b[39man engine manually.\u001b[39m\u001b[39m\"\u001b[39m\n\u001b[0;32m   1659\u001b[0m         )\n",
      "File \u001b[1;32mc:\\Users\\SOHAN\\AppData\\Local\\Programs\\Python\\Python311\\Lib\\site-packages\\pandas\\io\\excel\\_base.py:1525\u001b[0m, in \u001b[0;36minspect_excel_format\u001b[1;34m(content_or_path, storage_options)\u001b[0m\n\u001b[0;32m   1522\u001b[0m \u001b[39mif\u001b[39;00m \u001b[39misinstance\u001b[39m(content_or_path, \u001b[39mbytes\u001b[39m):\n\u001b[0;32m   1523\u001b[0m     content_or_path \u001b[39m=\u001b[39m BytesIO(content_or_path)\n\u001b[1;32m-> 1525\u001b[0m \u001b[39mwith\u001b[39;00m get_handle(\n\u001b[0;32m   1526\u001b[0m     content_or_path, \u001b[39m\"\u001b[39;49m\u001b[39mrb\u001b[39;49m\u001b[39m\"\u001b[39;49m, storage_options\u001b[39m=\u001b[39;49mstorage_options, is_text\u001b[39m=\u001b[39;49m\u001b[39mFalse\u001b[39;49;00m\n\u001b[0;32m   1527\u001b[0m ) \u001b[39mas\u001b[39;00m handle:\n\u001b[0;32m   1528\u001b[0m     stream \u001b[39m=\u001b[39m handle\u001b[39m.\u001b[39mhandle\n\u001b[0;32m   1529\u001b[0m     stream\u001b[39m.\u001b[39mseek(\u001b[39m0\u001b[39m)\n",
      "File \u001b[1;32mc:\\Users\\SOHAN\\AppData\\Local\\Programs\\Python\\Python311\\Lib\\site-packages\\pandas\\io\\common.py:865\u001b[0m, in \u001b[0;36mget_handle\u001b[1;34m(path_or_buf, mode, encoding, compression, memory_map, is_text, errors, storage_options)\u001b[0m\n\u001b[0;32m    856\u001b[0m         handle \u001b[39m=\u001b[39m \u001b[39mopen\u001b[39m(\n\u001b[0;32m    857\u001b[0m             handle,\n\u001b[0;32m    858\u001b[0m             ioargs\u001b[39m.\u001b[39mmode,\n\u001b[1;32m   (...)\u001b[0m\n\u001b[0;32m    861\u001b[0m             newline\u001b[39m=\u001b[39m\u001b[39m\"\u001b[39m\u001b[39m\"\u001b[39m,\n\u001b[0;32m    862\u001b[0m         )\n\u001b[0;32m    863\u001b[0m     \u001b[39melse\u001b[39;00m:\n\u001b[0;32m    864\u001b[0m         \u001b[39m# Binary mode\u001b[39;00m\n\u001b[1;32m--> 865\u001b[0m         handle \u001b[39m=\u001b[39m \u001b[39mopen\u001b[39m(handle, ioargs\u001b[39m.\u001b[39mmode)\n\u001b[0;32m    866\u001b[0m     handles\u001b[39m.\u001b[39mappend(handle)\n\u001b[0;32m    868\u001b[0m \u001b[39m# Convert BytesIO or file objects passed with an encoding\u001b[39;00m\n",
      "\u001b[1;31mPermissionError\u001b[0m: [Errno 13] Permission denied: 'F:\\\\One Drive\\\\OneDrive - Indian Institute of Science Education and Research Bhopal\\\\Excel data for Various Parameters\\\\Meandering Index\\\\Plots'"
     ]
    }
   ],
   "source": [
    "df2 = pd.read_excel(output_folder_path,'Meandering-Final.xlsx')\n",
    "df2"
   ]
  },
  {
   "attachments": {},
   "cell_type": "markdown",
   "metadata": {},
   "source": [
    "#### Renaming the column name"
   ]
  },
  {
   "cell_type": "code",
   "execution_count": null,
   "metadata": {},
   "outputs": [],
   "source": [
    "df2 = df.rename(columns={\n",
    "    'Serial Number':'Reach', 'Meandering-1965_TableToExcel.xls':'1965', \n",
    "    'TableToExcel_Mon-2016.xls':'Mon-2016', 'TableToExcel_Mon-2017.xls':'Mon-2017',\n",
    "    'TableToExcel_Mon-2018.xls':'Mon-2018', 'TableToExcel_Mon-2019.xls':'Mon-2019',\n",
    "    'TableToExcel_Mon-2020.xls':'Mon-2020','TableToExcel_Post-2016.xls':'Post-2016',\n",
    "    'TableToExcel_Post-2017.xls':'Post-2017', 'TableToExcel_Post-2018.xls':'Post-2018',\n",
    "    'TableToExcel_Post-2019.xls':'Post-2019', 'TableToExcel_Post-2020.xls':'Post-2020', 'TableToExcel_Pre-2017.xls':'Pre-2017',\n",
    "    'TableToExcel_Pre-2018.xls':'Pre-2018', 'TableToExcel_Pre-2019.xls':'Pre-2019',\n",
    "    'TableToExcel_Pre-2020.xls':'Pre-2020'})\n",
    "df2.head()\n",
    "\n",
    "# Save the file in the same folder as the ouptut file\n",
    "output_file_path = os.path.join(output_folder_path, \"Meandering-Final-Updated.csv\")\n",
    "df2.to_csv(output_file_path, index=False)"
   ]
  },
  {
   "cell_type": "code",
   "execution_count": null,
   "metadata": {},
   "outputs": [],
   "source": [
    "df3 = pd.read_csv(output_file_path)\n",
    "df3.head()"
   ]
  },
  {
   "cell_type": "code",
   "execution_count": null,
   "metadata": {},
   "outputs": [],
   "source": [
    "'''\n",
    "This is the plot of the meandering index for the various reaches of the river Yamuna for the years 1965 vs Monsooon 2016-2020\n",
    "'''\n",
    "plt.plot(df2[\"Reach\"], df2['1965'],marker='s', markerfacecolor='black', markersize= 5, color='black', linewidth=2, label='1965')\n",
    "plt.plot(df2[\"Reach\"], df2['Mon-2016'],marker='o', markerfacecolor='red', markersize= 5, color='red', linewidth=2, label='Mon-2016')\n",
    "plt.plot(df2[\"Reach\"], df2['Mon-2017'],marker='^', markerfacecolor='green', markersize= 5, color='green', linewidth=2, label='Mon-2017')\n",
    "plt.plot(df2[\"Reach\"], df2['Mon-2018'],marker='*', markerfacecolor='blue', markersize= 5, color='blue', linewidth=2, label='Mon-2018')\n",
    "plt.plot(df2[\"Reach\"], df2['Mon-2019'],marker='s', markerfacecolor='magenta', markersize= 5, color='magenta', linewidth=2,label='Mon-2019')\n",
    "plt.plot(df2[\"Reach\"], df2['Mon-2020'],marker='v', markerfacecolor='orange', markersize= 5, color='orange', linewidth=2, label='Mon-2020')\n",
    "plt.title(\"Meandering Index\")\n",
    "plt.xlabel(\"Reach\")\n",
    "plt.ylabel(\"Meandering Index\")\n",
    "plt.legend()\n",
    "plt.show()"
   ]
  },
  {
   "cell_type": "code",
   "execution_count": null,
   "metadata": {},
   "outputs": [],
   "source": [
    "'''This is the plot of the meandering index for the various reaches of the river Yamuna for the years 1965 vs Post-Monsoon 2016-2020'''\n",
    "plt.plot(df2[\"Reach\"], df2['1965'],marker='s', markerfacecolor='black', markersize=9, color='black', linewidth=4, label='1965')\n",
    "plt.plot(df2[\"Reach\"], df2['Post-2016'],marker='o', markerfacecolor='red', markersize=9, color='red', linewidth=4, label='Post-2016')\n",
    "plt.plot(df2[\"Reach\"], df2['Post-2017'],marker='^', markerfacecolor='green', markersize=9, color='green', linewidth=4, label='Post-2017')\n",
    "plt.plot(df2[\"Reach\"], df2['Post-2018'],marker='*', markerfacecolor='blue', markersize=9, color='blue', linewidth=4, label='Post-2018')\n",
    "plt.plot(df2[\"Reach\"], df2['Post-2019'],marker='s', markerfacecolor='magenta', markersize=9, color='magenta', linewidth=4,label='Post-2019')\n",
    "plt.plot(df2[\"Reach\"], df2['Post-2020'],marker='v', markerfacecolor='orange', markersize=9, color='orange', linewidth=4, label='Post-2020')\n",
    "plt.title(\"Meandering Index\")\n",
    "plt.xlabel(\"Reach\")\n",
    "plt.ylabel(\"Meandering Index\")\n",
    "plt.legend()\n",
    "plt.show()"
   ]
  },
  {
   "cell_type": "code",
   "execution_count": null,
   "metadata": {},
   "outputs": [],
   "source": [
    "'''This is the plot of the meandering index for the various reaches of the river Yamuna for the years 1965 vs Pre-Monsoon 2017-2020'''\n",
    "plt.plot(df2[\"Reach\"], df2['1965'],marker='s', markerfacecolor='black', markersize=9, color='black', linewidth=4, label='1965')\n",
    "plt.plot(df2[\"Reach\"], df2['Pre-2017'],marker='^', markerfacecolor='green', markersize=9, color='green', linewidth=4, label='Pre-2017')\n",
    "plt.plot(df2[\"Reach\"], df2['Pre-2018'],marker='*', markerfacecolor='blue', markersize=9, color='blue', linewidth=4, label='Pre-2018')\n",
    "plt.plot(df2[\"Reach\"], df2['Pre-2019'],marker='s', markerfacecolor='magenta', markersize=9, color='magenta', linewidth=4,label='Pre-2019')\n",
    "plt.plot(df2[\"Reach\"], df2['Pre-2020'],marker='v', markerfacecolor='orange', markersize=9, color='orange', linewidth=4, label='Pre-2020')\n",
    "plt.title(\"Meandering Index\")\n",
    "plt.xlabel(\"Reach\")\n",
    "plt.ylabel(\"Meandering Index\")\n",
    "plt.legend()\n",
    "plt.show()"
   ]
  },
  {
   "cell_type": "code",
   "execution_count": null,
   "metadata": {},
   "outputs": [],
   "source": [
    "# For the year 1965 vs 2016\n",
    "# 1965\n",
    "plt.plot(df2[\"Reach\"], df2['1965'],marker='s', markerfacecolor='black', markersize= 5, color='black', linewidth=2, label='1965')\n",
    "\n",
    "# Monsoon 2016\n",
    "plt.plot(df2[\"Reach\"], df2['Mon-2016'],marker='o', markerfacecolor='black', markersize= 5, color='magenta', linewidth=2, label='Mon-2016')\n",
    "\n",
    "# Post-Monsoon 2016\n",
    "plt.plot(df2[\"Reach\"], df2['Post-2016'],marker='^', markerfacecolor='black', markersize=5, color='green', linewidth=2, label='Post-2016')\n",
    "\n",
    "# Axis and Titles\n",
    "plt.title(\"Meandering Index for the year 2016\")\n",
    "plt.xlabel(\"Reach\")\n",
    "plt.ylabel(\"Meandering Index\")\n",
    "plt.legend()\n",
    "plt.grid(True, color='grey', linestyle='-', linewidth=0.25, alpha=0.5)\n",
    "plt.show()\n"
   ]
  },
  {
   "cell_type": "code",
   "execution_count": null,
   "metadata": {},
   "outputs": [
    {
     "ename": "NameError",
     "evalue": "name 'plt' is not defined",
     "output_type": "error",
     "traceback": [
      "\u001b[1;31m---------------------------------------------------------------------------\u001b[0m",
      "\u001b[1;31mNameError\u001b[0m                                 Traceback (most recent call last)",
      "Cell \u001b[1;32mIn[1], line 3\u001b[0m\n\u001b[0;32m      1\u001b[0m \u001b[39m# For the year 1965 vs 2017\u001b[39;00m\n\u001b[0;32m      2\u001b[0m \u001b[39m# 1965\u001b[39;00m\n\u001b[1;32m----> 3\u001b[0m plt\u001b[39m.\u001b[39mplot(df2[\u001b[39m\"\u001b[39m\u001b[39mReach\u001b[39m\u001b[39m\"\u001b[39m], df2[\u001b[39m'\u001b[39m\u001b[39m1965\u001b[39m\u001b[39m'\u001b[39m], marker\u001b[39m=\u001b[39m\u001b[39m'\u001b[39m\u001b[39ms\u001b[39m\u001b[39m'\u001b[39m, markerfacecolor\u001b[39m=\u001b[39m\u001b[39m'\u001b[39m\u001b[39mblack\u001b[39m\u001b[39m'\u001b[39m,\n\u001b[0;32m      4\u001b[0m          markersize\u001b[39m=\u001b[39m\u001b[39m5\u001b[39m, color\u001b[39m=\u001b[39m\u001b[39m'\u001b[39m\u001b[39mblack\u001b[39m\u001b[39m'\u001b[39m, linewidth\u001b[39m=\u001b[39m\u001b[39m2\u001b[39m, label\u001b[39m=\u001b[39m\u001b[39m'\u001b[39m\u001b[39m1965\u001b[39m\u001b[39m'\u001b[39m)\n\u001b[0;32m      6\u001b[0m \u001b[39m# Pre-Monsoon 2017\u001b[39;00m\n\u001b[0;32m      7\u001b[0m plt\u001b[39m.\u001b[39mplot(df2[\u001b[39m\"\u001b[39m\u001b[39mReach\u001b[39m\u001b[39m\"\u001b[39m], df2[\u001b[39m'\u001b[39m\u001b[39mPre-2017\u001b[39m\u001b[39m'\u001b[39m], marker\u001b[39m=\u001b[39m\u001b[39m'\u001b[39m\u001b[39mo\u001b[39m\u001b[39m'\u001b[39m, markerfacecolor\u001b[39m=\u001b[39m\u001b[39m'\u001b[39m\u001b[39mblack\u001b[39m\u001b[39m'\u001b[39m,\n\u001b[0;32m      8\u001b[0m             markersize\u001b[39m=\u001b[39m\u001b[39m5\u001b[39m, color\u001b[39m=\u001b[39m\u001b[39m'\u001b[39m\u001b[39mred\u001b[39m\u001b[39m'\u001b[39m, linewidth\u001b[39m=\u001b[39m\u001b[39m2\u001b[39m, label\u001b[39m=\u001b[39m\u001b[39m'\u001b[39m\u001b[39mPre-2017\u001b[39m\u001b[39m'\u001b[39m)\n",
      "\u001b[1;31mNameError\u001b[0m: name 'plt' is not defined"
     ]
    }
   ],
   "source": [
    "# For the year 1965 vs 2017\n",
    "# 1965\n",
    "plt.plot(df2[\"Reach\"], df2['1965'], marker='s', markerfacecolor='black',\n",
    "         markersize=5, color='black', linewidth=2, label='1965')\n",
    "\n",
    "# Pre-Monsoon 2017\n",
    "plt.plot(df2[\"Reach\"], df2['Pre-2017'], marker='o', markerfacecolor='black',\n",
    "            markersize=5, color='red', linewidth=2, label='Pre-2017')\n",
    "\n",
    "# Monsoon 2017\n",
    "plt.plot(df2[\"Reach\"], df2['Mon-2017'], marker='^', markerfacecolor='black',\n",
    "         markersize=5, color='magenta', linewidth=2, label='Mon-2017')\n",
    "\n",
    "# Post-Monsoon 2017\n",
    "plt.plot(df2[\"Reach\"], df2['Post-2017'], marker='*', markerfacecolor='black',\n",
    "         markersize=5, color='green', linewidth=2, label='Post-2017')\n",
    "\n",
    "# Axis and Titles\n",
    "plt.title(\"Meandering Index for the year 2017\")\n",
    "plt.xlabel(\"Reach\")\n",
    "plt.ylabel(\"Meandering Index\")\n",
    "plt.legend()\n",
    "plt.grid(True, color='grey', linestyle='-', linewidth=0.25, alpha=0.5)\n",
    "plt.show()"
   ]
  },
  {
   "cell_type": "code",
   "execution_count": null,
   "metadata": {},
   "outputs": [],
   "source": [
    "# For the year 1965 vs 2018\n",
    "# 1965\n",
    "plt.plot(df2[\"Reach\"], df2['1965'], marker='s', markerfacecolor='black',\n",
    "         markersize=5, color='black', linewidth=2, label='1965')\n",
    "\n",
    "# Pre-Monsoon 2018\n",
    "plt.plot(df2[\"Reach\"], df2['Pre-2018'], marker='o', markerfacecolor='black',\n",
    "         markersize=5, color='red', linewidth=2, label='Pre-2018')\n",
    "\n",
    "# Monsoon 2018\n",
    "plt.plot(df2[\"Reach\"], df2['Mon-2018'], marker='^', markerfacecolor='black',\n",
    "         markersize=5, color='magenta', linewidth=2, label='Mon-2018')\n",
    "\n",
    "# Post-Monsoon 2018\n",
    "plt.plot(df2[\"Reach\"], df2['Post-2018'], marker='*', markerfacecolor='black',\n",
    "         markersize=5, color='green', linewidth=2, label='Post-2018')\n",
    "\n",
    "# Axis and Titles\n",
    "plt.title(\"Meandering Index for the year 2018\")\n",
    "plt.xlabel(\"Reach\")\n",
    "plt.ylabel(\"Meandering Index\")\n",
    "plt.legend()\n",
    "plt.grid(True, color='grey', linestyle='-', linewidth=0.25, alpha=0.5)\n",
    "plt.show()\n"
   ]
  },
  {
   "cell_type": "code",
   "execution_count": null,
   "metadata": {},
   "outputs": [],
   "source": [
    "# For the year 1965 vs 2019\n",
    "# 1965\n",
    "plt.plot(df2[\"Reach\"], df2['1965'], marker='s', markerfacecolor='black',\n",
    "         markersize=5, color='black', linewidth=2, label='1965')\n",
    "\n",
    "# Pre-Monsoon 2019\n",
    "plt.plot(df2[\"Reach\"], df2['Pre-2019'], marker='o', markerfacecolor='black',\n",
    "         markersize=5, color='red', linewidth=2, label='Pre-2019')\n",
    "\n",
    "# Monsoon 2019\n",
    "plt.plot(df2[\"Reach\"], df2['Mon-2019'], marker='^', markerfacecolor='black',\n",
    "         markersize=5, color='magenta', linewidth=2, label='Mon-2019')\n",
    "\n",
    "# Post-Monsoon 2019\n",
    "plt.plot(df2[\"Reach\"], df2['Post-2019'], marker='*', markerfacecolor='black',\n",
    "         markersize=5, color='green', linewidth=2, label='Post-2019')\n",
    "\n",
    "# Axis and Titles\n",
    "plt.title(\"Meandering Index for the year 2019\")\n",
    "plt.xlabel(\"Reach\")\n",
    "plt.ylabel(\"Meandering Index\")\n",
    "plt.legend()\n",
    "plt.grid(True, color='grey', linestyle='-', linewidth=0.25, alpha=0.5)\n",
    "plt.show()\n"
   ]
  },
  {
   "cell_type": "code",
   "execution_count": null,
   "metadata": {},
   "outputs": [],
   "source": [
    "# For the year 1965 vs 2020\n",
    "# 1965\n",
    "plt.plot(df2[\"Reach\"], df2['1965'], marker='s', markerfacecolor='black',\n",
    "         markersize=5, color='black', linewidth=2, label='1965')\n",
    "\n",
    "# Pre-Monsoon 2020\n",
    "plt.plot(df2[\"Reach\"], df2['Pre-2020'], marker='o', markerfacecolor='black',\n",
    "         markersize=5, color='red', linewidth=2, label='Pre-2020')\n",
    "\n",
    "# Monsoon 2020\n",
    "plt.plot(df2[\"Reach\"], df2['Mon-2020'], marker='^', markerfacecolor='black',\n",
    "         markersize=5, color='magenta', linewidth=2, label='Mon-2020')\n",
    "\n",
    "# Post-Monsoon 2020\n",
    "plt.plot(df2[\"Reach\"], df2['Post-2020'], marker='*', markerfacecolor='black',\n",
    "         markersize=5, color='green', linewidth=2, label='Post-2020')\n",
    "\n",
    "# Axis and Titles\n",
    "plt.title(\"Meandering Index for the year 2020\")\n",
    "plt.xlabel(\"Reach\")\n",
    "plt.ylabel(\"Meandering Index\")\n",
    "plt.legend()\n",
    "plt.grid(True, color='grey', linestyle='-', linewidth=0.25, alpha=0.5)\n",
    "plt.show()\n"
   ]
  }
 ],
 "metadata": {
  "kernelspec": {
   "display_name": "Python 3",
   "language": "python",
   "name": "python3"
  },
  "language_info": {
   "codemirror_mode": {
    "name": "ipython",
    "version": 3
   },
   "file_extension": ".py",
   "mimetype": "text/x-python",
   "name": "python",
   "nbconvert_exporter": "python",
   "pygments_lexer": "ipython3",
   "version": "3.11.2"
  },
  "orig_nbformat": 4
 },
 "nbformat": 4,
 "nbformat_minor": 2
}
